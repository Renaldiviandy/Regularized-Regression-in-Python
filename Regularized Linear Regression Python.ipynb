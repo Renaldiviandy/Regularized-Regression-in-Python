{
 "cells": [
  {
   "cell_type": "markdown",
   "metadata": {
    "id": "-dcJLLw3R-zb"
   },
   "source": [
    "# Regularized Regression"
   ]
  },
  {
   "cell_type": "code",
   "execution_count": 37,
   "metadata": {
    "colab": {
     "base_uri": "https://localhost:8080/"
    },
    "executionInfo": {
     "elapsed": 2883,
     "status": "ok",
     "timestamp": 1652801846433,
     "user": {
      "displayName": "Pararawendy Indarjo",
      "userId": "09035664507663317723"
     },
     "user_tz": -420
    },
    "id": "OREN2E9DB9tW",
    "outputId": "3225087f-79c2-4ab6-df84-3139beb958f1"
   },
   "outputs": [
    {
     "name": "stdout",
     "output_type": "stream",
     "text": [
      "Drive already mounted at /content/drive; to attempt to forcibly remount, call drive.mount(\"/content/drive\", force_remount=True).\n"
     ]
    }
   ],
   "source": [
    "from google.colab import drive\n",
    "drive.mount('/content/drive')"
   ]
  },
  {
   "cell_type": "markdown",
   "metadata": {
    "id": "JEqStBLJn1GP"
   },
   "source": [
    "# Import Libraries"
   ]
  },
  {
   "cell_type": "code",
   "execution_count": 2,
   "metadata": {
    "executionInfo": {
     "elapsed": 18,
     "status": "ok",
     "timestamp": 1652801846434,
     "user": {
      "displayName": "Pararawendy Indarjo",
      "userId": "09035664507663317723"
     },
     "user_tz": -420
    },
    "id": "LH5jt0hGzMJK"
   },
   "outputs": [],
   "source": [
    "import numpy as np\n",
    "import pandas as pd\n",
    "import seaborn as sns\n",
    "import matplotlib.pyplot as plt"
   ]
  },
  {
   "cell_type": "markdown",
   "metadata": {
    "id": "xlhcnk39oKQJ"
   },
   "source": [
    "# Preliminary Flow"
   ]
  },
  {
   "cell_type": "markdown",
   "metadata": {
    "id": "lXo_LD4QoEux"
   },
   "source": [
    "### Load Data"
   ]
  },
  {
   "cell_type": "code",
   "execution_count": 3,
   "metadata": {
    "colab": {
     "base_uri": "https://localhost:8080/",
     "height": 206
    },
    "executionInfo": {
     "elapsed": 17,
     "status": "ok",
     "timestamp": 1652801846434,
     "user": {
      "displayName": "Pararawendy Indarjo",
      "userId": "09035664507663317723"
     },
     "user_tz": -420
    },
    "id": "dHOXRjEURyLI",
    "outputId": "b7c0b7b5-127b-4a7d-e44c-5a73c131f943"
   },
   "outputs": [
    {
     "data": {
      "text/html": [
       "<div>\n",
       "<style scoped>\n",
       "    .dataframe tbody tr th:only-of-type {\n",
       "        vertical-align: middle;\n",
       "    }\n",
       "\n",
       "    .dataframe tbody tr th {\n",
       "        vertical-align: top;\n",
       "    }\n",
       "\n",
       "    .dataframe thead th {\n",
       "        text-align: right;\n",
       "    }\n",
       "</style>\n",
       "<table border=\"1\" class=\"dataframe\">\n",
       "  <thead>\n",
       "    <tr style=\"text-align: right;\">\n",
       "      <th></th>\n",
       "      <th>gre_score</th>\n",
       "      <th>toefl_score</th>\n",
       "      <th>univ_ranking</th>\n",
       "      <th>motiv_letter_strength</th>\n",
       "      <th>recommendation_strength</th>\n",
       "      <th>gpa</th>\n",
       "      <th>research_exp</th>\n",
       "      <th>admit_prob</th>\n",
       "    </tr>\n",
       "  </thead>\n",
       "  <tbody>\n",
       "    <tr>\n",
       "      <th>0</th>\n",
       "      <td>337</td>\n",
       "      <td>118</td>\n",
       "      <td>4</td>\n",
       "      <td>4.5</td>\n",
       "      <td>4.5</td>\n",
       "      <td>9.65</td>\n",
       "      <td>1</td>\n",
       "      <td>0.92</td>\n",
       "    </tr>\n",
       "    <tr>\n",
       "      <th>1</th>\n",
       "      <td>324</td>\n",
       "      <td>107</td>\n",
       "      <td>4</td>\n",
       "      <td>4.0</td>\n",
       "      <td>4.5</td>\n",
       "      <td>8.87</td>\n",
       "      <td>1</td>\n",
       "      <td>0.76</td>\n",
       "    </tr>\n",
       "    <tr>\n",
       "      <th>2</th>\n",
       "      <td>316</td>\n",
       "      <td>104</td>\n",
       "      <td>3</td>\n",
       "      <td>3.0</td>\n",
       "      <td>3.5</td>\n",
       "      <td>8.00</td>\n",
       "      <td>1</td>\n",
       "      <td>0.72</td>\n",
       "    </tr>\n",
       "    <tr>\n",
       "      <th>3</th>\n",
       "      <td>322</td>\n",
       "      <td>110</td>\n",
       "      <td>3</td>\n",
       "      <td>3.5</td>\n",
       "      <td>2.5</td>\n",
       "      <td>8.67</td>\n",
       "      <td>1</td>\n",
       "      <td>0.80</td>\n",
       "    </tr>\n",
       "    <tr>\n",
       "      <th>4</th>\n",
       "      <td>314</td>\n",
       "      <td>103</td>\n",
       "      <td>2</td>\n",
       "      <td>2.0</td>\n",
       "      <td>3.0</td>\n",
       "      <td>8.21</td>\n",
       "      <td>0</td>\n",
       "      <td>0.65</td>\n",
       "    </tr>\n",
       "  </tbody>\n",
       "</table>\n",
       "</div>"
      ],
      "text/plain": [
       "   gre_score  toefl_score  univ_ranking  motiv_letter_strength  \\\n",
       "0        337          118             4                    4.5   \n",
       "1        324          107             4                    4.0   \n",
       "2        316          104             3                    3.0   \n",
       "3        322          110             3                    3.5   \n",
       "4        314          103             2                    2.0   \n",
       "\n",
       "   recommendation_strength   gpa  research_exp  admit_prob  \n",
       "0                      4.5  9.65             1        0.92  \n",
       "1                      4.5  8.87             1        0.76  \n",
       "2                      3.5  8.00             1        0.72  \n",
       "3                      2.5  8.67             1        0.80  \n",
       "4                      3.0  8.21             0        0.65  "
      ]
     },
     "execution_count": 3,
     "metadata": {},
     "output_type": "execute_result"
    }
   ],
   "source": [
    "# load data\n",
    "admit = pd.read_csv('regression_data.csv')\n",
    "admit.head()"
   ]
  },
  {
   "cell_type": "markdown",
   "metadata": {
    "id": "WbIcJM9eoHjO"
   },
   "source": [
    "### Split Data"
   ]
  },
  {
   "cell_type": "code",
   "execution_count": 4,
   "metadata": {
    "executionInfo": {
     "elapsed": 15,
     "status": "ok",
     "timestamp": 1652801846434,
     "user": {
      "displayName": "Pararawendy Indarjo",
      "userId": "09035664507663317723"
     },
     "user_tz": -420
    },
    "id": "qE0LUifaaOoO"
   },
   "outputs": [],
   "source": [
    "# split train test\n",
    "from sklearn.model_selection import train_test_split\n",
    "\n",
    "feature = admit.drop(columns='admit_prob')\n",
    "target = admit[['admit_prob']]\n",
    "\n",
    "feature_admit_train, feature_admit_test, target_admit_train, target_admit_test = train_test_split(feature, target, test_size=0.20, random_state=42)"
   ]
  },
  {
   "cell_type": "code",
   "execution_count": 5,
   "metadata": {
    "colab": {
     "base_uri": "https://localhost:8080/",
     "height": 325
    },
    "executionInfo": {
     "elapsed": 15,
     "status": "ok",
     "timestamp": 1652801846435,
     "user": {
      "displayName": "Pararawendy Indarjo",
      "userId": "09035664507663317723"
     },
     "user_tz": -420
    },
    "id": "FHzRqUxiTCJW",
    "outputId": "b3ed1935-e8ab-49cc-d504-b3d550666d6f"
   },
   "outputs": [
    {
     "data": {
      "text/html": [
       "<div>\n",
       "<style scoped>\n",
       "    .dataframe tbody tr th:only-of-type {\n",
       "        vertical-align: middle;\n",
       "    }\n",
       "\n",
       "    .dataframe tbody tr th {\n",
       "        vertical-align: top;\n",
       "    }\n",
       "\n",
       "    .dataframe thead th {\n",
       "        text-align: right;\n",
       "    }\n",
       "</style>\n",
       "<table border=\"1\" class=\"dataframe\">\n",
       "  <thead>\n",
       "    <tr style=\"text-align: right;\">\n",
       "      <th></th>\n",
       "      <th>feature</th>\n",
       "      <th>vif_score</th>\n",
       "    </tr>\n",
       "  </thead>\n",
       "  <tbody>\n",
       "    <tr>\n",
       "      <th>1</th>\n",
       "      <td>gre_score</td>\n",
       "      <td>4.489983</td>\n",
       "    </tr>\n",
       "    <tr>\n",
       "      <th>2</th>\n",
       "      <td>toefl_score</td>\n",
       "      <td>3.664298</td>\n",
       "    </tr>\n",
       "    <tr>\n",
       "      <th>3</th>\n",
       "      <td>univ_ranking</td>\n",
       "      <td>2.572110</td>\n",
       "    </tr>\n",
       "    <tr>\n",
       "      <th>4</th>\n",
       "      <td>motiv_letter_strength</td>\n",
       "      <td>2.785764</td>\n",
       "    </tr>\n",
       "    <tr>\n",
       "      <th>5</th>\n",
       "      <td>recommendation_strength</td>\n",
       "      <td>1.977698</td>\n",
       "    </tr>\n",
       "    <tr>\n",
       "      <th>6</th>\n",
       "      <td>gpa</td>\n",
       "      <td>4.654540</td>\n",
       "    </tr>\n",
       "    <tr>\n",
       "      <th>7</th>\n",
       "      <td>research_exp</td>\n",
       "      <td>1.518065</td>\n",
       "    </tr>\n",
       "  </tbody>\n",
       "</table>\n",
       "</div>"
      ],
      "text/plain": [
       "                   feature  vif_score\n",
       "1                gre_score   4.489983\n",
       "2              toefl_score   3.664298\n",
       "3             univ_ranking   2.572110\n",
       "4    motiv_letter_strength   2.785764\n",
       "5  recommendation_strength   1.977698\n",
       "6                      gpa   4.654540\n",
       "7             research_exp   1.518065"
      ]
     },
     "execution_count": 5,
     "metadata": {},
     "output_type": "execute_result"
    }
   ],
   "source": [
    "# calculate VIF scores\n",
    "from statsmodels.stats.outliers_influence import variance_inflation_factor as vif \n",
    "from statsmodels.tools.tools import add_constant\n",
    "\n",
    "X = add_constant(feature_admit_train)\n",
    "\n",
    "vif_df = pd.DataFrame([vif(X.values, i) \n",
    "               for i in range(X.shape[1])], \n",
    "              index=X.columns).reset_index()\n",
    "vif_df.columns = ['feature','vif_score']\n",
    "vif_df = vif_df.loc[vif_df.feature!='const']\n",
    "vif_df"
   ]
  },
  {
   "cell_type": "markdown",
   "metadata": {
    "id": "BUTv5EAmSclV"
   },
   "source": [
    "There are several features with high VIF scores:\n",
    "1. `gre_score`\n",
    "2. `gpa`"
   ]
  },
  {
   "cell_type": "code",
   "execution_count": 6,
   "metadata": {
    "colab": {
     "base_uri": "https://localhost:8080/",
     "height": 554
    },
    "executionInfo": {
     "elapsed": 1023,
     "status": "ok",
     "timestamp": 1652801847449,
     "user": {
      "displayName": "Pararawendy Indarjo",
      "userId": "09035664507663317723"
     },
     "user_tz": -420
    },
    "id": "fZGXT04UXoVn",
    "outputId": "bf05dcfb-32f7-4485-a702-f85faa12cfc5"
   },
   "outputs": [
    {
     "data": {
      "image/png": "[encoded data removed]",
      "text/plain": [
       "<Figure size 720x504 with 2 Axes>"
      ]
     },
     "metadata": {
      "needs_background": "light"
     },
     "output_type": "display_data"
    }
   ],
   "source": [
    "# heatmap correlation\n",
    "admit_train = pd.concat([feature_admit_train, target_admit_train], axis=1)\n",
    "corr = admit_train.corr()\n",
    "\n",
    "plt.figure(figsize=(10,7))\n",
    "sns.heatmap(corr, annot=True, fmt='.2f')\n",
    "plt.show()"
   ]
  },
  {
   "cell_type": "markdown",
   "metadata": {
    "id": "H2BOiJJZcqei"
   },
   "source": [
    "We choose to retain `gpa`. Therefore, we need to drop:\n",
    "* `gre_score`\n",
    "* `toefl_score`"
   ]
  },
  {
   "cell_type": "code",
   "execution_count": 7,
   "metadata": {
    "executionInfo": {
     "elapsed": 19,
     "status": "ok",
     "timestamp": 1652801847450,
     "user": {
      "displayName": "Pararawendy Indarjo",
      "userId": "09035664507663317723"
     },
     "user_tz": -420
    },
    "id": "oDZsx2y6ZcJZ"
   },
   "outputs": [],
   "source": [
    "# drop redundant features\n",
    "feature_admit_train = feature_admit_train.drop(columns=['gre_score','toefl_score'])\n",
    "feature_admit_test = feature_admit_test.drop(columns=['gre_score','toefl_score'])"
   ]
  },
  {
   "cell_type": "markdown",
   "metadata": {
    "id": "zoA6xynHgFBK"
   },
   "source": [
    "### Recheck VIF"
   ]
  },
  {
   "cell_type": "code",
   "execution_count": 8,
   "metadata": {
    "colab": {
     "base_uri": "https://localhost:8080/",
     "height": 262
    },
    "executionInfo": {
     "elapsed": 18,
     "status": "ok",
     "timestamp": 1652801847450,
     "user": {
      "displayName": "Pararawendy Indarjo",
      "userId": "09035664507663317723"
     },
     "user_tz": -420
    },
    "id": "3e3UFGAsgEU4",
    "outputId": "e05ab921-9610-4bf3-d8bd-62b7efbd10be"
   },
   "outputs": [
    {
     "data": {
      "text/html": [
       "<div>\n",
       "<style scoped>\n",
       "    .dataframe tbody tr th:only-of-type {\n",
       "        vertical-align: middle;\n",
       "    }\n",
       "\n",
       "    .dataframe tbody tr th {\n",
       "        vertical-align: top;\n",
       "    }\n",
       "\n",
       "    .dataframe thead th {\n",
       "        text-align: right;\n",
       "    }\n",
       "</style>\n",
       "<table border=\"1\" class=\"dataframe\">\n",
       "  <thead>\n",
       "    <tr style=\"text-align: right;\">\n",
       "      <th></th>\n",
       "      <th>feature</th>\n",
       "      <th>vif_score</th>\n",
       "    </tr>\n",
       "  </thead>\n",
       "  <tbody>\n",
       "    <tr>\n",
       "      <th>1</th>\n",
       "      <td>univ_ranking</td>\n",
       "      <td>2.511407</td>\n",
       "    </tr>\n",
       "    <tr>\n",
       "      <th>2</th>\n",
       "      <td>motiv_letter_strength</td>\n",
       "      <td>2.748278</td>\n",
       "    </tr>\n",
       "    <tr>\n",
       "      <th>3</th>\n",
       "      <td>recommendation_strength</td>\n",
       "      <td>1.965542</td>\n",
       "    </tr>\n",
       "    <tr>\n",
       "      <th>4</th>\n",
       "      <td>gpa</td>\n",
       "      <td>2.726281</td>\n",
       "    </tr>\n",
       "    <tr>\n",
       "      <th>5</th>\n",
       "      <td>research_exp</td>\n",
       "      <td>1.350514</td>\n",
       "    </tr>\n",
       "  </tbody>\n",
       "</table>\n",
       "</div>"
      ],
      "text/plain": [
       "                   feature  vif_score\n",
       "1             univ_ranking   2.511407\n",
       "2    motiv_letter_strength   2.748278\n",
       "3  recommendation_strength   1.965542\n",
       "4                      gpa   2.726281\n",
       "5             research_exp   1.350514"
      ]
     },
     "execution_count": 8,
     "metadata": {},
     "output_type": "execute_result"
    }
   ],
   "source": [
    "from statsmodels.stats.outliers_influence import variance_inflation_factor as vif \n",
    "from statsmodels.tools.tools import add_constant\n",
    "\n",
    "X = add_constant(feature_admit_train)\n",
    "\n",
    "vif_df = pd.DataFrame([vif(X.values, i) \n",
    "               for i in range(X.shape[1])], \n",
    "              index=X.columns).reset_index()\n",
    "vif_df.columns = ['feature','vif_score']\n",
    "vif_df = vif_df.loc[vif_df.feature!='const']\n",
    "vif_df"
   ]
  },
  {
   "cell_type": "markdown",
   "metadata": {
    "id": "SfoYKXpagMke"
   },
   "source": [
    "Good!"
   ]
  },
  {
   "cell_type": "markdown",
   "metadata": {
    "id": "F0EWKWOfgNnK"
   },
   "source": [
    "## Model Training"
   ]
  },
  {
   "cell_type": "markdown",
   "metadata": {
    "id": "djEjdABMuikE"
   },
   "source": [
    "### Ridge Regression"
   ]
  },
  {
   "cell_type": "code",
   "execution_count": 9,
   "metadata": {
    "colab": {
     "base_uri": "https://localhost:8080/"
    },
    "executionInfo": {
     "elapsed": 13,
     "status": "ok",
     "timestamp": 1652801847450,
     "user": {
      "displayName": "Pararawendy Indarjo",
      "userId": "09035664507663317723"
     },
     "user_tz": -420
    },
    "id": "bvqhoVJkdqDI",
    "outputId": "3a2c1928-6572-4b58-b3e7-6a2d40b479e5"
   },
   "outputs": [
    {
     "data": {
      "text/plain": [
       "Ridge(alpha=0.1, random_state=42)"
      ]
     },
     "execution_count": 9,
     "metadata": {},
     "output_type": "execute_result"
    }
   ],
   "source": [
    "from sklearn.linear_model import Ridge\n",
    "\n",
    "# train the model\n",
    "X_admit_train = feature_admit_train.to_numpy()\n",
    "y_admit_train = target_admit_train.to_numpy()\n",
    "y_admit_train = y_admit_train.reshape(len(y_admit_train),)\n",
    "\n",
    "# define the model\n",
    "ridge_reg = Ridge(alpha=0.1, \n",
    "                  random_state=42)\n",
    "\n",
    "ridge_reg.fit(X_admit_train, y_admit_train)"
   ]
  },
  {
   "cell_type": "code",
   "execution_count": 10,
   "metadata": {
    "colab": {
     "base_uri": "https://localhost:8080/",
     "height": 238
    },
    "executionInfo": {
     "elapsed": 13,
     "status": "ok",
     "timestamp": 1652801847451,
     "user": {
      "displayName": "Pararawendy Indarjo",
      "userId": "09035664507663317723"
     },
     "user_tz": -420
    },
    "id": "lbRscGr9dqDJ",
    "outputId": "bf3c9842-4e9b-4bc0-fb32-7b72a78bc872"
   },
   "outputs": [
    {
     "data": {
      "text/html": [
       "<div>\n",
       "<style scoped>\n",
       "    .dataframe tbody tr th:only-of-type {\n",
       "        vertical-align: middle;\n",
       "    }\n",
       "\n",
       "    .dataframe tbody tr th {\n",
       "        vertical-align: top;\n",
       "    }\n",
       "\n",
       "    .dataframe thead th {\n",
       "        text-align: right;\n",
       "    }\n",
       "</style>\n",
       "<table border=\"1\" class=\"dataframe\">\n",
       "  <thead>\n",
       "    <tr style=\"text-align: right;\">\n",
       "      <th></th>\n",
       "      <th>feature</th>\n",
       "      <th>coefficient</th>\n",
       "    </tr>\n",
       "  </thead>\n",
       "  <tbody>\n",
       "    <tr>\n",
       "      <th>0</th>\n",
       "      <td>intercept</td>\n",
       "      <td>-0.764483</td>\n",
       "    </tr>\n",
       "    <tr>\n",
       "      <th>1</th>\n",
       "      <td>univ_ranking</td>\n",
       "      <td>0.007031</td>\n",
       "    </tr>\n",
       "    <tr>\n",
       "      <th>2</th>\n",
       "      <td>motiv_letter_strength</td>\n",
       "      <td>0.004406</td>\n",
       "    </tr>\n",
       "    <tr>\n",
       "      <th>3</th>\n",
       "      <td>recommendation_strength</td>\n",
       "      <td>0.014806</td>\n",
       "    </tr>\n",
       "    <tr>\n",
       "      <th>4</th>\n",
       "      <td>gpa</td>\n",
       "      <td>0.160723</td>\n",
       "    </tr>\n",
       "    <tr>\n",
       "      <th>5</th>\n",
       "      <td>research_exp</td>\n",
       "      <td>0.038290</td>\n",
       "    </tr>\n",
       "  </tbody>\n",
       "</table>\n",
       "</div>"
      ],
      "text/plain": [
       "                   feature  coefficient\n",
       "0                intercept    -0.764483\n",
       "1             univ_ranking     0.007031\n",
       "2    motiv_letter_strength     0.004406\n",
       "3  recommendation_strength     0.014806\n",
       "4                      gpa     0.160723\n",
       "5             research_exp     0.038290"
      ]
     },
     "execution_count": 10,
     "metadata": {},
     "output_type": "execute_result"
    }
   ],
   "source": [
    "# retrieve the coefficients\n",
    "# show as a nice dataframe\n",
    "\n",
    "data = feature_admit_train\n",
    "model = ridge_reg\n",
    "\n",
    "coef_df = pd.DataFrame({\n",
    "    'feature':['intercept'] + data.columns.tolist(),\n",
    "    'coefficient':[model.intercept_] + list(model.coef_)\n",
    "})\n",
    "\n",
    "coef_df"
   ]
  },
  {
   "cell_type": "markdown",
   "metadata": {
    "id": "xQXhmy4nz6BV"
   },
   "source": [
    "## Lasso"
   ]
  },
  {
   "cell_type": "code",
   "execution_count": 11,
   "metadata": {
    "colab": {
     "base_uri": "https://localhost:8080/"
    },
    "executionInfo": {
     "elapsed": 11,
     "status": "ok",
     "timestamp": 1652801847451,
     "user": {
      "displayName": "Pararawendy Indarjo",
      "userId": "09035664507663317723"
     },
     "user_tz": -420
    },
    "id": "zEvwmVm3z5hD",
    "outputId": "f3f121b0-c9df-4a48-c84a-b273238c5f61"
   },
   "outputs": [
    {
     "data": {
      "text/plain": [
       "Lasso(alpha=0.1, random_state=42)"
      ]
     },
     "execution_count": 11,
     "metadata": {},
     "output_type": "execute_result"
    }
   ],
   "source": [
    "from sklearn.linear_model import Lasso\n",
    "\n",
    "# define the model\n",
    "lasso_reg = Lasso(alpha=0.1, \n",
    "                  random_state=42)\n",
    "\n",
    "lasso_reg.fit(X_admit_train, y_admit_train)"
   ]
  },
  {
   "cell_type": "code",
   "execution_count": 12,
   "metadata": {
    "colab": {
     "base_uri": "https://localhost:8080/",
     "height": 238
    },
    "executionInfo": {
     "elapsed": 1129,
     "status": "ok",
     "timestamp": 1652801848570,
     "user": {
      "displayName": "Pararawendy Indarjo",
      "userId": "09035664507663317723"
     },
     "user_tz": -420
    },
    "id": "eIctp92ez8vz",
    "outputId": "74e228ee-cfe4-41c4-b715-613dbbc3ce14"
   },
   "outputs": [
    {
     "data": {
      "text/html": [
       "<div>\n",
       "<style scoped>\n",
       "    .dataframe tbody tr th:only-of-type {\n",
       "        vertical-align: middle;\n",
       "    }\n",
       "\n",
       "    .dataframe tbody tr th {\n",
       "        vertical-align: top;\n",
       "    }\n",
       "\n",
       "    .dataframe thead th {\n",
       "        text-align: right;\n",
       "    }\n",
       "</style>\n",
       "<table border=\"1\" class=\"dataframe\">\n",
       "  <thead>\n",
       "    <tr style=\"text-align: right;\">\n",
       "      <th></th>\n",
       "      <th>feature</th>\n",
       "      <th>coefficient</th>\n",
       "    </tr>\n",
       "  </thead>\n",
       "  <tbody>\n",
       "    <tr>\n",
       "      <th>0</th>\n",
       "      <td>intercept</td>\n",
       "      <td>0.702539</td>\n",
       "    </tr>\n",
       "    <tr>\n",
       "      <th>1</th>\n",
       "      <td>univ_ranking</td>\n",
       "      <td>0.006951</td>\n",
       "    </tr>\n",
       "    <tr>\n",
       "      <th>2</th>\n",
       "      <td>motiv_letter_strength</td>\n",
       "      <td>0.000000</td>\n",
       "    </tr>\n",
       "    <tr>\n",
       "      <th>3</th>\n",
       "      <td>recommendation_strength</td>\n",
       "      <td>0.000000</td>\n",
       "    </tr>\n",
       "    <tr>\n",
       "      <th>4</th>\n",
       "      <td>gpa</td>\n",
       "      <td>0.000000</td>\n",
       "    </tr>\n",
       "    <tr>\n",
       "      <th>5</th>\n",
       "      <td>research_exp</td>\n",
       "      <td>0.000000</td>\n",
       "    </tr>\n",
       "  </tbody>\n",
       "</table>\n",
       "</div>"
      ],
      "text/plain": [
       "                   feature  coefficient\n",
       "0                intercept     0.702539\n",
       "1             univ_ranking     0.006951\n",
       "2    motiv_letter_strength     0.000000\n",
       "3  recommendation_strength     0.000000\n",
       "4                      gpa     0.000000\n",
       "5             research_exp     0.000000"
      ]
     },
     "execution_count": 12,
     "metadata": {},
     "output_type": "execute_result"
    }
   ],
   "source": [
    "# retrieve the coefficients\n",
    "# show as a nice dataframe\n",
    "\n",
    "data = feature_admit_train\n",
    "model = lasso_reg\n",
    "\n",
    "coef_df = pd.DataFrame({\n",
    "    'feature':['intercept'] + data.columns.tolist(),\n",
    "    'coefficient':[model.intercept_] + list(model.coef_)\n",
    "})\n",
    "\n",
    "coef_df"
   ]
  },
  {
   "cell_type": "markdown",
   "metadata": {
    "id": "a4a5NUkkeHm5"
   },
   "source": [
    "# Workflow with choosing the best lambda"
   ]
  },
  {
   "cell_type": "markdown",
   "metadata": {
    "id": "6-uQfxkExfH2"
   },
   "source": [
    "## Split data: train-validation-test"
   ]
  },
  {
   "cell_type": "code",
   "execution_count": 13,
   "metadata": {
    "executionInfo": {
     "elapsed": 40,
     "status": "ok",
     "timestamp": 1652801848571,
     "user": {
      "displayName": "Pararawendy Indarjo",
      "userId": "09035664507663317723"
     },
     "user_tz": -420
    },
    "id": "Gc4h04Glxein"
   },
   "outputs": [],
   "source": [
    "# split train test\n",
    "from sklearn.model_selection import train_test_split\n",
    "\n",
    "feature = admit.drop(columns='admit_prob')\n",
    "target = admit[['admit_prob']]\n",
    "\n",
    "feature_admit_pretrain, feature_admit_test, target_admit_pretrain, target_admit_test = train_test_split(feature, target, test_size=0.20, random_state=42)\n",
    "\n",
    "feature_admit_train, feature_admit_validation, target_admit_train, target_admit_validation = train_test_split(feature_admit_pretrain, target_admit_pretrain, test_size=0.20, random_state=42)"
   ]
  },
  {
   "cell_type": "markdown",
   "metadata": {
    "id": "3XYR4SQL4nPB"
   },
   "source": [
    "## Drop Multicollinear Features"
   ]
  },
  {
   "cell_type": "code",
   "execution_count": 14,
   "metadata": {
    "executionInfo": {
     "elapsed": 38,
     "status": "ok",
     "timestamp": 1652801848571,
     "user": {
      "displayName": "Pararawendy Indarjo",
      "userId": "09035664507663317723"
     },
     "user_tz": -420
    },
    "id": "hjbx7ma94nm_"
   },
   "outputs": [],
   "source": [
    "feature_admit_train = feature_admit_train.drop(columns=['gre_score','toefl_score'])\n",
    "feature_admit_validation = feature_admit_validation.drop(columns=['gre_score','toefl_score'])\n",
    "feature_admit_test = feature_admit_test.drop(columns=['gre_score','toefl_score'])"
   ]
  },
  {
   "cell_type": "markdown",
   "metadata": {
    "id": "0uUU31Ce1_zd"
   },
   "source": [
    "## Train Multiple Models\n",
    "with different alpha (lambda)"
   ]
  },
  {
   "cell_type": "code",
   "execution_count": 15,
   "metadata": {
    "colab": {
     "base_uri": "https://localhost:8080/"
    },
    "executionInfo": {
     "elapsed": 38,
     "status": "ok",
     "timestamp": 1652801848571,
     "user": {
      "displayName": "Pararawendy Indarjo",
      "userId": "09035664507663317723"
     },
     "user_tz": -420
    },
    "id": "nSsm-rHhd1Ro",
    "outputId": "6685940e-bf3c-43ba-8f5b-93a7af6c775e"
   },
   "outputs": [
    {
     "data": {
      "text/plain": [
       "Ridge(alpha=10, random_state=42)"
      ]
     },
     "execution_count": 15,
     "metadata": {},
     "output_type": "execute_result"
    }
   ],
   "source": [
    "from sklearn.linear_model import Ridge\n",
    "\n",
    "# train the model\n",
    "X_admit_train = feature_admit_train.to_numpy()\n",
    "y_admit_train = target_admit_train.to_numpy()\n",
    "y_admit_train = y_admit_train.reshape(len(y_admit_train),)\n",
    "\n",
    "# define the model\n",
    "ridge_reg_pointzeroone = Ridge(alpha=0.01, random_state=42)\n",
    "ridge_reg_pointone = Ridge(alpha=0.1, random_state=42)\n",
    "ridge_reg_one = Ridge(alpha=1, random_state=42)\n",
    "ridge_reg_ten = Ridge(alpha=10, random_state=42)\n",
    "\n",
    "# fit the model (training)\n",
    "ridge_reg_pointzeroone.fit(X_admit_train, y_admit_train)\n",
    "ridge_reg_pointone.fit(X_admit_train, y_admit_train)\n",
    "ridge_reg_one.fit(X_admit_train, y_admit_train)\n",
    "ridge_reg_ten.fit(X_admit_train, y_admit_train)"
   ]
  },
  {
   "cell_type": "markdown",
   "metadata": {
    "id": "g3oXwH4C2Fm0"
   },
   "source": [
    "## Find the best model (alpha)\n",
    "Based on validation set"
   ]
  },
  {
   "cell_type": "code",
   "execution_count": 16,
   "metadata": {
    "colab": {
     "base_uri": "https://localhost:8080/"
    },
    "executionInfo": {
     "elapsed": 34,
     "status": "ok",
     "timestamp": 1652801848572,
     "user": {
      "displayName": "Pararawendy Indarjo",
      "userId": "09035664507663317723"
     },
     "user_tz": -420
    },
    "id": "oTyAb6-ZzyKI",
    "outputId": "da5e5891-bfaa-4250-edfc-92b5d9d2b57a"
   },
   "outputs": [
    {
     "name": "stdout",
     "output_type": "stream",
     "text": [
      "RMSE of Ridge regression model with alpha = 0.01 is 0.057324682661497074\n",
      "RMSE of Ridge regression model with alpha = 0.1 is 0.05734237964771407\n",
      "RMSE of Ridge regression model with alpha = 1.0 is 0.057528698222295366\n",
      "RMSE of Ridge regression model with alpha = 10 is 0.05983184011212869\n"
     ]
    }
   ],
   "source": [
    "from sklearn.metrics import mean_squared_error\n",
    "\n",
    "X_admit_validation = feature_admit_validation.to_numpy()\n",
    "y_admit_validation = target_admit_validation.to_numpy()\n",
    "y_admit_validation = y_admit_validation.reshape(len(y_admit_validation),)\n",
    "\n",
    "alphas = [0.01, 0.1, 1., 10]\n",
    "models = [ridge_reg_pointzeroone,\n",
    "          ridge_reg_pointone,\n",
    "          ridge_reg_one,\n",
    "          ridge_reg_ten]\n",
    "\n",
    "for model, alpha in zip(models, alphas):\n",
    "    y_predict_validation = model.predict(X_admit_validation)\n",
    "    rmse = np.sqrt(mean_squared_error(y_admit_validation,y_predict_validation))\n",
    "    print(f'RMSE of Ridge regression model with alpha = {alpha} is {rmse}')"
   ]
  },
  {
   "cell_type": "markdown",
   "metadata": {
    "id": "7xdEhfzIf-c2"
   },
   "source": [
    "## Model Evaluation"
   ]
  },
  {
   "cell_type": "code",
   "execution_count": 17,
   "metadata": {
    "colab": {
     "base_uri": "https://localhost:8080/",
     "height": 238
    },
    "executionInfo": {
     "elapsed": 30,
     "status": "ok",
     "timestamp": 1652801848572,
     "user": {
      "displayName": "Pararawendy Indarjo",
      "userId": "09035664507663317723"
     },
     "user_tz": -420
    },
    "id": "RdygaJzE3Gx0",
    "outputId": "258711cb-53c5-427e-def8-5a8dd1658864"
   },
   "outputs": [
    {
     "data": {
      "text/html": [
       "<div>\n",
       "<style scoped>\n",
       "    .dataframe tbody tr th:only-of-type {\n",
       "        vertical-align: middle;\n",
       "    }\n",
       "\n",
       "    .dataframe tbody tr th {\n",
       "        vertical-align: top;\n",
       "    }\n",
       "\n",
       "    .dataframe thead th {\n",
       "        text-align: right;\n",
       "    }\n",
       "</style>\n",
       "<table border=\"1\" class=\"dataframe\">\n",
       "  <thead>\n",
       "    <tr style=\"text-align: right;\">\n",
       "      <th></th>\n",
       "      <th>feature</th>\n",
       "      <th>coefficient</th>\n",
       "    </tr>\n",
       "  </thead>\n",
       "  <tbody>\n",
       "    <tr>\n",
       "      <th>0</th>\n",
       "      <td>intercept</td>\n",
       "      <td>-0.741404</td>\n",
       "    </tr>\n",
       "    <tr>\n",
       "      <th>1</th>\n",
       "      <td>univ_ranking</td>\n",
       "      <td>0.005556</td>\n",
       "    </tr>\n",
       "    <tr>\n",
       "      <th>2</th>\n",
       "      <td>motiv_letter_strength</td>\n",
       "      <td>0.009497</td>\n",
       "    </tr>\n",
       "    <tr>\n",
       "      <th>3</th>\n",
       "      <td>recommendation_strength</td>\n",
       "      <td>0.015778</td>\n",
       "    </tr>\n",
       "    <tr>\n",
       "      <th>4</th>\n",
       "      <td>gpa</td>\n",
       "      <td>0.155693</td>\n",
       "    </tr>\n",
       "    <tr>\n",
       "      <th>5</th>\n",
       "      <td>research_exp</td>\n",
       "      <td>0.042721</td>\n",
       "    </tr>\n",
       "  </tbody>\n",
       "</table>\n",
       "</div>"
      ],
      "text/plain": [
       "                   feature  coefficient\n",
       "0                intercept    -0.741404\n",
       "1             univ_ranking     0.005556\n",
       "2    motiv_letter_strength     0.009497\n",
       "3  recommendation_strength     0.015778\n",
       "4                      gpa     0.155693\n",
       "5             research_exp     0.042721"
      ]
     },
     "execution_count": 17,
     "metadata": {},
     "output_type": "execute_result"
    }
   ],
   "source": [
    "ridge_best = ridge_reg_pointzeroone\n",
    "\n",
    "coef_df = pd.DataFrame({\n",
    "    'feature':['intercept'] + feature_admit_train.columns.tolist(),\n",
    "    'coefficient':[ridge_best.intercept_] + list(ridge_best.coef_)\n",
    "})\n",
    "\n",
    "coef_df"
   ]
  },
  {
   "cell_type": "markdown",
   "metadata": {
    "id": "rVTlEJqigqs3"
   },
   "source": [
    "### Diagnostic Study\n",
    "Not mandatory"
   ]
  },
  {
   "cell_type": "code",
   "execution_count": 18,
   "metadata": {
    "colab": {
     "base_uri": "https://localhost:8080/"
    },
    "executionInfo": {
     "elapsed": 29,
     "status": "ok",
     "timestamp": 1652801848572,
     "user": {
      "displayName": "Pararawendy Indarjo",
      "userId": "09035664507663317723"
     },
     "user_tz": -420
    },
    "id": "LPmFz8JwhHDF",
    "outputId": "3146f1ea-4c66-4b48-efa5-b04ceeb65144"
   },
   "outputs": [
    {
     "name": "stdout",
     "output_type": "stream",
     "text": [
      "R-squared for training data is 0.7983604440801396\n"
     ]
    }
   ],
   "source": [
    "from sklearn.metrics import r2_score\n",
    "\n",
    "y_predict_train = ridge_best.predict(X_admit_train)\n",
    "\n",
    "print('R-squared for training data is {}'.format(r2_score(y_admit_train, y_predict_train)))"
   ]
  },
  {
   "cell_type": "code",
   "execution_count": 19,
   "metadata": {
    "colab": {
     "base_uri": "https://localhost:8080/",
     "height": 281
    },
    "executionInfo": {
     "elapsed": 27,
     "status": "ok",
     "timestamp": 1652801848572,
     "user": {
      "displayName": "Pararawendy Indarjo",
      "userId": "09035664507663317723"
     },
     "user_tz": -420
    },
    "id": "LJmCCE396vnc",
    "outputId": "64fa548f-301a-4ca4-a6d2-c90031270976"
   },
   "outputs": [
    {
     "data": {
      "image/png": "[encoded data removed]",
      "text/plain": [
       "<Figure size 432x288 with 1 Axes>"
      ]
     },
     "metadata": {
      "needs_background": "light"
     },
     "output_type": "display_data"
    }
   ],
   "source": [
    "# calculate residuals\n",
    "residual = y_admit_train - y_predict_train\n",
    "\n",
    "# prepare dataframe\n",
    "# 1 predictor --> predictor VS residual\n",
    "df_resid = pd.DataFrame({\n",
    "    'predicted_value': y_predict_train,\n",
    "    'residual': residual\n",
    "})\n",
    "\n",
    "# residual plot\n",
    "sns.scatterplot(data=df_resid, x=\"predicted_value\", y=\"residual\")\n",
    "plt.axhline(0)\n",
    "plt.show()"
   ]
  },
  {
   "cell_type": "markdown",
   "metadata": {
    "id": "hs277LXaYMZJ"
   },
   "source": [
    "### Training Error"
   ]
  },
  {
   "cell_type": "code",
   "execution_count": 20,
   "metadata": {
    "executionInfo": {
     "elapsed": 27,
     "status": "ok",
     "timestamp": 1652801848573,
     "user": {
      "displayName": "Pararawendy Indarjo",
      "userId": "09035664507663317723"
     },
     "user_tz": -420
    },
    "id": "iWGHYRfTYM5K"
   },
   "outputs": [],
   "source": [
    "# prepare prediction result on train data\n",
    "y_predict_train = ridge_best.predict(X_admit_train)"
   ]
  },
  {
   "cell_type": "code",
   "execution_count": 21,
   "metadata": {
    "colab": {
     "base_uri": "https://localhost:8080/"
    },
    "executionInfo": {
     "elapsed": 27,
     "status": "ok",
     "timestamp": 1652801848573,
     "user": {
      "displayName": "Pararawendy Indarjo",
      "userId": "09035664507663317723"
     },
     "user_tz": -420
    },
    "id": "SHxtK--AZO1g",
    "outputId": "b646523f-8a29-4037-f936-2a7001bb6379"
   },
   "outputs": [
    {
     "name": "stdout",
     "output_type": "stream",
     "text": [
      "RMSE for training data is 0.06452404616839902\n",
      "MAE for training data is 0.04696727414428013\n",
      "MAPE for training data is 0.0761569819236105\n"
     ]
    }
   ],
   "source": [
    "from sklearn.metrics import mean_squared_error\n",
    "from sklearn.metrics import mean_absolute_error\n",
    "from sklearn.metrics import mean_absolute_percentage_error\n",
    "\n",
    "print('RMSE for training data is {}'.format(np.sqrt(mean_squared_error(y_admit_train, y_predict_train))))\n",
    "print('MAE for training data is {}'.format(mean_absolute_error(y_admit_train, y_predict_train)))\n",
    "print('MAPE for training data is {}'.format(mean_absolute_percentage_error(y_admit_train, y_predict_train)))"
   ]
  },
  {
   "cell_type": "markdown",
   "metadata": {
    "id": "ULt9B-MjiKUn"
   },
   "source": [
    "### Testing Error"
   ]
  },
  {
   "cell_type": "code",
   "execution_count": 22,
   "metadata": {
    "executionInfo": {
     "elapsed": 27,
     "status": "ok",
     "timestamp": 1652801848575,
     "user": {
      "displayName": "Pararawendy Indarjo",
      "userId": "09035664507663317723"
     },
     "user_tz": -420
    },
    "id": "8oxKg8VJiE-y"
   },
   "outputs": [],
   "source": [
    "# prepare prediction result on test data\n",
    "X_admit_test = feature_admit_test.to_numpy()\n",
    "y_predict_test = ridge_best.predict(X_admit_test)\n",
    "\n",
    "# ground truth target\n",
    "y_admit_test = target_admit_test.to_numpy()\n",
    "y_admit_test = y_admit_test.reshape(len(y_admit_test),)"
   ]
  },
  {
   "cell_type": "code",
   "execution_count": 23,
   "metadata": {
    "colab": {
     "base_uri": "https://localhost:8080/"
    },
    "executionInfo": {
     "elapsed": 27,
     "status": "ok",
     "timestamp": 1652801848576,
     "user": {
      "displayName": "Pararawendy Indarjo",
      "userId": "09035664507663317723"
     },
     "user_tz": -420
    },
    "id": "LXMFczSoilEH",
    "outputId": "28c1d4dd-775a-4168-c7e1-8f2704d5f72e"
   },
   "outputs": [
    {
     "name": "stdout",
     "output_type": "stream",
     "text": [
      "RMSE for testing data is 0.05897949876358454\n",
      "MAE for testing data is 0.039665519822843456\n",
      "MAPE for testing data is 0.0646079497445827\n"
     ]
    }
   ],
   "source": [
    "from sklearn.metrics import mean_squared_error\n",
    "from sklearn.metrics import mean_absolute_error\n",
    "from sklearn.metrics import mean_absolute_percentage_error\n",
    "\n",
    "print('RMSE for testing data is {}'.format(np.sqrt(mean_squared_error(y_admit_test, y_predict_test))))\n",
    "print('MAE for testing data is {}'.format(mean_absolute_error(y_admit_test, y_predict_test)))\n",
    "print('MAPE for testing data is {}'.format(mean_absolute_percentage_error(y_admit_test, y_predict_test)))"
   ]
  },
  {
   "cell_type": "code",
   "execution_count": 95,
   "metadata": {
    "colab": {
     "base_uri": "https://localhost:8080/"
    },
    "executionInfo": {
     "elapsed": 26,
     "status": "ok",
     "timestamp": 1652801848576,
     "user": {
      "displayName": "Pararawendy Indarjo",
      "userId": "09035664507663317723"
     },
     "user_tz": -420
    },
    "id": "aRNQKnNjqfoV",
    "outputId": "dafd2c1a-2d01-437c-8165-0ae7e89d0e92"
   },
   "outputs": [
    {
     "data": {
      "text/plain": [
       "0.0646079497445827"
      ]
     },
     "execution_count": 95,
     "metadata": {},
     "output_type": "execute_result"
    }
   ],
   "source": [
    "from sklearn.metrics import mean_absolute_error\n",
    "from sklearn.metrics import mean_absolute_percentage_error\n",
    "\n",
    "mean_absolute_error(y_admit_test, y_predict_test)\n",
    "mean_absolute_percentage_error(y_admit_test, y_predict_test)"
   ]
  },
  {
   "cell_type": "markdown",
   "metadata": {
    "id": "A8V64QsD31Q2"
   },
   "source": [
    "# Lasso!\n",
    "Left as casual homework"
   ]
  },
  {
   "cell_type": "code",
   "execution_count": 60,
   "metadata": {
    "executionInfo": {
     "elapsed": 24,
     "status": "ok",
     "timestamp": 1652801848576,
     "user": {
      "displayName": "Pararawendy Indarjo",
      "userId": "09035664507663317723"
     },
     "user_tz": -420
    },
    "id": "BS2_qDwE9Voz"
   },
   "outputs": [],
   "source": []
  },
  {
   "cell_type": "markdown",
   "metadata": {
    "id": "s0erVMdzoqXf"
   },
   "source": [
    "# Predicting Traffic Volume Using Lasso"
   ]
  },
  {
   "cell_type": "code",
   "execution_count": 61,
   "metadata": {
    "colab": {
     "base_uri": "https://localhost:8080/",
     "height": 206
    },
    "executionInfo": {
     "elapsed": 25,
     "status": "ok",
     "timestamp": 1652801848577,
     "user": {
      "displayName": "Pararawendy Indarjo",
      "userId": "09035664507663317723"
     },
     "user_tz": -420
    },
    "id": "29vuA1emplS3",
    "outputId": "04acb8cb-dbaf-4ec2-993d-e349acaae2b3"
   },
   "outputs": [
    {
     "data": {
      "text/html": [
       "\n",
       "  <div id=\"df-10dc8390-436b-40df-9ec9-6df9a0c13673\">\n",
       "    <div class=\"colab-df-container\">\n",
       "      <div>\n",
       "<style scoped>\n",
       "    .dataframe tbody tr th:only-of-type {\n",
       "        vertical-align: middle;\n",
       "    }\n",
       "\n",
       "    .dataframe tbody tr th {\n",
       "        vertical-align: top;\n",
       "    }\n",
       "\n",
       "    .dataframe thead th {\n",
       "        text-align: right;\n",
       "    }\n",
       "</style>\n",
       "<table border=\"1\" class=\"dataframe\">\n",
       "  <thead>\n",
       "    <tr style=\"text-align: right;\">\n",
       "      <th></th>\n",
       "      <th>temp</th>\n",
       "      <th>clouds_all</th>\n",
       "      <th>hour</th>\n",
       "      <th>is_weekend</th>\n",
       "      <th>traffic_volume</th>\n",
       "    </tr>\n",
       "  </thead>\n",
       "  <tbody>\n",
       "    <tr>\n",
       "      <th>0</th>\n",
       "      <td>288.28</td>\n",
       "      <td>40</td>\n",
       "      <td>9</td>\n",
       "      <td>0</td>\n",
       "      <td>5545</td>\n",
       "    </tr>\n",
       "    <tr>\n",
       "      <th>1</th>\n",
       "      <td>289.36</td>\n",
       "      <td>75</td>\n",
       "      <td>10</td>\n",
       "      <td>0</td>\n",
       "      <td>4516</td>\n",
       "    </tr>\n",
       "    <tr>\n",
       "      <th>2</th>\n",
       "      <td>289.58</td>\n",
       "      <td>90</td>\n",
       "      <td>11</td>\n",
       "      <td>0</td>\n",
       "      <td>4767</td>\n",
       "    </tr>\n",
       "    <tr>\n",
       "      <th>3</th>\n",
       "      <td>290.13</td>\n",
       "      <td>90</td>\n",
       "      <td>12</td>\n",
       "      <td>0</td>\n",
       "      <td>5026</td>\n",
       "    </tr>\n",
       "    <tr>\n",
       "      <th>4</th>\n",
       "      <td>291.14</td>\n",
       "      <td>75</td>\n",
       "      <td>13</td>\n",
       "      <td>0</td>\n",
       "      <td>4918</td>\n",
       "    </tr>\n",
       "  </tbody>\n",
       "</table>\n",
       "</div>\n",
       "      <button class=\"colab-df-convert\" onclick=\"convertToInteractive('df-10dc8390-436b-40df-9ec9-6df9a0c13673')\"\n",
       "              title=\"Convert this dataframe to an interactive table.\"\n",
       "              style=\"display:none;\">\n",
       "        \n",
       "  <svg xmlns=\"http://www.w3.org/2000/svg\" height=\"24px\"viewBox=\"0 0 24 24\"\n",
       "       width=\"24px\">\n",
       "    <path d=\"M0 0h24v24H0V0z\" fill=\"none\"/>\n",
       "    <path d=\"M18.56 5.44l.94 2.06.94-2.06 2.06-.94-2.06-.94-.94-2.06-.94 2.06-2.06.94zm-11 1L8.5 8.5l.94-2.06 2.06-.94-2.06-.94L8.5 2.5l-.94 2.06-2.06.94zm10 10l.94 2.06.94-2.06 2.06-.94-2.06-.94-.94-2.06-.94 2.06-2.06.94z\"/><path d=\"M17.41 7.96l-1.37-1.37c-.4-.4-.92-.59-1.43-.59-.52 0-1.04.2-1.43.59L10.3 9.45l-7.72 7.72c-.78.78-.78 2.05 0 2.83L4 21.41c.39.39.9.59 1.41.59.51 0 1.02-.2 1.41-.59l7.78-7.78 2.81-2.81c.8-.78.8-2.07 0-2.86zM5.41 20L4 18.59l7.72-7.72 1.47 1.35L5.41 20z\"/>\n",
       "  </svg>\n",
       "      </button>\n",
       "      \n",
       "  <style>\n",
       "    .colab-df-container {\n",
       "      display:flex;\n",
       "      flex-wrap:wrap;\n",
       "      gap: 12px;\n",
       "    }\n",
       "\n",
       "    .colab-df-convert {\n",
       "      background-color: #E8F0FE;\n",
       "      border: none;\n",
       "      border-radius: 50%;\n",
       "      cursor: pointer;\n",
       "      display: none;\n",
       "      fill: #1967D2;\n",
       "      height: 32px;\n",
       "      padding: 0 0 0 0;\n",
       "      width: 32px;\n",
       "    }\n",
       "\n",
       "    .colab-df-convert:hover {\n",
       "      background-color: #E2EBFA;\n",
       "      box-shadow: 0px 1px 2px rgba(60, 64, 67, 0.3), 0px 1px 3px 1px rgba(60, 64, 67, 0.15);\n",
       "      fill: #174EA6;\n",
       "    }\n",
       "\n",
       "    [theme=dark] .colab-df-convert {\n",
       "      background-color: #3B4455;\n",
       "      fill: #D2E3FC;\n",
       "    }\n",
       "\n",
       "    [theme=dark] .colab-df-convert:hover {\n",
       "      background-color: #434B5C;\n",
       "      box-shadow: 0px 1px 3px 1px rgba(0, 0, 0, 0.15);\n",
       "      filter: drop-shadow(0px 1px 2px rgba(0, 0, 0, 0.3));\n",
       "      fill: #FFFFFF;\n",
       "    }\n",
       "  </style>\n",
       "\n",
       "      <script>\n",
       "        const buttonEl =\n",
       "          document.querySelector('#df-10dc8390-436b-40df-9ec9-6df9a0c13673 button.colab-df-convert');\n",
       "        buttonEl.style.display =\n",
       "          google.colab.kernel.accessAllowed ? 'block' : 'none';\n",
       "\n",
       "        async function convertToInteractive(key) {\n",
       "          const element = document.querySelector('#df-10dc8390-436b-40df-9ec9-6df9a0c13673');\n",
       "          const dataTable =\n",
       "            await google.colab.kernel.invokeFunction('convertToInteractive',\n",
       "                                                     [key], {});\n",
       "          if (!dataTable) return;\n",
       "\n",
       "          const docLinkHtml = 'Like what you see? Visit the ' +\n",
       "            '<a target=\"_blank\" href=https://colab.research.google.com/notebooks/data_table.ipynb>data table notebook</a>'\n",
       "            + ' to learn more about interactive tables.';\n",
       "          element.innerHTML = '';\n",
       "          dataTable['output_type'] = 'display_data';\n",
       "          await google.colab.output.renderOutput(dataTable, element);\n",
       "          const docLink = document.createElement('div');\n",
       "          docLink.innerHTML = docLinkHtml;\n",
       "          element.appendChild(docLink);\n",
       "        }\n",
       "      </script>\n",
       "    </div>\n",
       "  </div>\n",
       "  "
      ],
      "text/plain": [
       "     temp  clouds_all  hour  is_weekend  traffic_volume\n",
       "0  288.28          40     9           0            5545\n",
       "1  289.36          75    10           0            4516\n",
       "2  289.58          90    11           0            4767\n",
       "3  290.13          90    12           0            5026\n",
       "4  291.14          75    13           0            4918"
      ]
     },
     "execution_count": 61,
     "metadata": {},
     "output_type": "execute_result"
    }
   ],
   "source": [
    "# load data\n",
    "traffic = pd.read_csv('/content/drive/MyDrive/Dibimbing/data/traffic_volume.csv')\n",
    "traffic.head()"
   ]
  },
  {
   "cell_type": "code",
   "execution_count": 62,
   "metadata": {
    "executionInfo": {
     "elapsed": 24,
     "status": "ok",
     "timestamp": 1652801848577,
     "user": {
      "displayName": "Pararawendy Indarjo",
      "userId": "09035664507663317723"
     },
     "user_tz": -420
    },
    "id": "IDel4JmJqQ4R"
   },
   "outputs": [],
   "source": [
    "# split train test\n",
    "from sklearn.model_selection import train_test_split\n",
    "\n",
    "feature = traffic.drop(columns='traffic_volume')\n",
    "target = traffic[['traffic_volume']]\n",
    "\n",
    "feature_traffic_pretrain, feature_traffic_test, target_traffic_pretrain, target_traffic_test = train_test_split(feature, target, test_size=0.20, random_state=42)\n",
    "\n",
    "feature_traffic_train, feature_traffic_validation, target_traffic_train, target_traffic_validation = train_test_split(feature_traffic_pretrain, target_traffic_pretrain, test_size=0.20, random_state=42)"
   ]
  },
  {
   "cell_type": "code",
   "execution_count": 63,
   "metadata": {
    "colab": {
     "base_uri": "https://localhost:8080/",
     "height": 231
    },
    "executionInfo": {
     "elapsed": 24,
     "status": "ok",
     "timestamp": 1652801848577,
     "user": {
      "displayName": "Pararawendy Indarjo",
      "userId": "09035664507663317723"
     },
     "user_tz": -420
    },
    "id": "CpF9SSfUqQ4S",
    "outputId": "7fe220ef-aa80-48ea-94ad-3ba35cd7bb5b"
   },
   "outputs": [
    {
     "name": "stderr",
     "output_type": "stream",
     "text": [
      "/usr/local/lib/python3.7/dist-packages/statsmodels/tsa/tsatools.py:117: FutureWarning: In a future version of pandas all arguments of concat except for the argument 'objs' will be keyword-only\n",
      "  x = pd.concat(x[::order], 1)\n"
     ]
    },
    {
     "data": {
      "text/html": [
       "\n",
       "  <div id=\"df-6401fa0e-7734-4c21-9d80-18366ef2815a\">\n",
       "    <div class=\"colab-df-container\">\n",
       "      <div>\n",
       "<style scoped>\n",
       "    .dataframe tbody tr th:only-of-type {\n",
       "        vertical-align: middle;\n",
       "    }\n",
       "\n",
       "    .dataframe tbody tr th {\n",
       "        vertical-align: top;\n",
       "    }\n",
       "\n",
       "    .dataframe thead th {\n",
       "        text-align: right;\n",
       "    }\n",
       "</style>\n",
       "<table border=\"1\" class=\"dataframe\">\n",
       "  <thead>\n",
       "    <tr style=\"text-align: right;\">\n",
       "      <th></th>\n",
       "      <th>feature</th>\n",
       "      <th>vif_score</th>\n",
       "    </tr>\n",
       "  </thead>\n",
       "  <tbody>\n",
       "    <tr>\n",
       "      <th>1</th>\n",
       "      <td>temp</td>\n",
       "      <td>1.050419</td>\n",
       "    </tr>\n",
       "    <tr>\n",
       "      <th>2</th>\n",
       "      <td>clouds_all</td>\n",
       "      <td>1.037852</td>\n",
       "    </tr>\n",
       "    <tr>\n",
       "      <th>3</th>\n",
       "      <td>hour</td>\n",
       "      <td>1.013055</td>\n",
       "    </tr>\n",
       "    <tr>\n",
       "      <th>4</th>\n",
       "      <td>is_weekend</td>\n",
       "      <td>1.000949</td>\n",
       "    </tr>\n",
       "  </tbody>\n",
       "</table>\n",
       "</div>\n",
       "      <button class=\"colab-df-convert\" onclick=\"convertToInteractive('df-6401fa0e-7734-4c21-9d80-18366ef2815a')\"\n",
       "              title=\"Convert this dataframe to an interactive table.\"\n",
       "              style=\"display:none;\">\n",
       "        \n",
       "  <svg xmlns=\"http://www.w3.org/2000/svg\" height=\"24px\"viewBox=\"0 0 24 24\"\n",
       "       width=\"24px\">\n",
       "    <path d=\"M0 0h24v24H0V0z\" fill=\"none\"/>\n",
       "    <path d=\"M18.56 5.44l.94 2.06.94-2.06 2.06-.94-2.06-.94-.94-2.06-.94 2.06-2.06.94zm-11 1L8.5 8.5l.94-2.06 2.06-.94-2.06-.94L8.5 2.5l-.94 2.06-2.06.94zm10 10l.94 2.06.94-2.06 2.06-.94-2.06-.94-.94-2.06-.94 2.06-2.06.94z\"/><path d=\"M17.41 7.96l-1.37-1.37c-.4-.4-.92-.59-1.43-.59-.52 0-1.04.2-1.43.59L10.3 9.45l-7.72 7.72c-.78.78-.78 2.05 0 2.83L4 21.41c.39.39.9.59 1.41.59.51 0 1.02-.2 1.41-.59l7.78-7.78 2.81-2.81c.8-.78.8-2.07 0-2.86zM5.41 20L4 18.59l7.72-7.72 1.47 1.35L5.41 20z\"/>\n",
       "  </svg>\n",
       "      </button>\n",
       "      \n",
       "  <style>\n",
       "    .colab-df-container {\n",
       "      display:flex;\n",
       "      flex-wrap:wrap;\n",
       "      gap: 12px;\n",
       "    }\n",
       "\n",
       "    .colab-df-convert {\n",
       "      background-color: #E8F0FE;\n",
       "      border: none;\n",
       "      border-radius: 50%;\n",
       "      cursor: pointer;\n",
       "      display: none;\n",
       "      fill: #1967D2;\n",
       "      height: 32px;\n",
       "      padding: 0 0 0 0;\n",
       "      width: 32px;\n",
       "    }\n",
       "\n",
       "    .colab-df-convert:hover {\n",
       "      background-color: #E2EBFA;\n",
       "      box-shadow: 0px 1px 2px rgba(60, 64, 67, 0.3), 0px 1px 3px 1px rgba(60, 64, 67, 0.15);\n",
       "      fill: #174EA6;\n",
       "    }\n",
       "\n",
       "    [theme=dark] .colab-df-convert {\n",
       "      background-color: #3B4455;\n",
       "      fill: #D2E3FC;\n",
       "    }\n",
       "\n",
       "    [theme=dark] .colab-df-convert:hover {\n",
       "      background-color: #434B5C;\n",
       "      box-shadow: 0px 1px 3px 1px rgba(0, 0, 0, 0.15);\n",
       "      filter: drop-shadow(0px 1px 2px rgba(0, 0, 0, 0.3));\n",
       "      fill: #FFFFFF;\n",
       "    }\n",
       "  </style>\n",
       "\n",
       "      <script>\n",
       "        const buttonEl =\n",
       "          document.querySelector('#df-6401fa0e-7734-4c21-9d80-18366ef2815a button.colab-df-convert');\n",
       "        buttonEl.style.display =\n",
       "          google.colab.kernel.accessAllowed ? 'block' : 'none';\n",
       "\n",
       "        async function convertToInteractive(key) {\n",
       "          const element = document.querySelector('#df-6401fa0e-7734-4c21-9d80-18366ef2815a');\n",
       "          const dataTable =\n",
       "            await google.colab.kernel.invokeFunction('convertToInteractive',\n",
       "                                                     [key], {});\n",
       "          if (!dataTable) return;\n",
       "\n",
       "          const docLinkHtml = 'Like what you see? Visit the ' +\n",
       "            '<a target=\"_blank\" href=https://colab.research.google.com/notebooks/data_table.ipynb>data table notebook</a>'\n",
       "            + ' to learn more about interactive tables.';\n",
       "          element.innerHTML = '';\n",
       "          dataTable['output_type'] = 'display_data';\n",
       "          await google.colab.output.renderOutput(dataTable, element);\n",
       "          const docLink = document.createElement('div');\n",
       "          docLink.innerHTML = docLinkHtml;\n",
       "          element.appendChild(docLink);\n",
       "        }\n",
       "      </script>\n",
       "    </div>\n",
       "  </div>\n",
       "  "
      ],
      "text/plain": [
       "      feature  vif_score\n",
       "1        temp   1.050419\n",
       "2  clouds_all   1.037852\n",
       "3        hour   1.013055\n",
       "4  is_weekend   1.000949"
      ]
     },
     "execution_count": 63,
     "metadata": {},
     "output_type": "execute_result"
    }
   ],
   "source": [
    "# calulcate vif scores\n",
    "from statsmodels.stats.outliers_influence import variance_inflation_factor as vif \n",
    "from statsmodels.tools.tools import add_constant\n",
    "\n",
    "X = add_constant(feature_traffic_train)\n",
    "\n",
    "vif_df = pd.DataFrame([vif(X.values, i) \n",
    "               for i in range(X.shape[1])], \n",
    "              index=X.columns).reset_index()\n",
    "vif_df.columns = ['feature','vif_score']\n",
    "vif_df = vif_df.loc[vif_df.feature!='const']\n",
    "vif_df"
   ]
  },
  {
   "cell_type": "code",
   "execution_count": 64,
   "metadata": {
    "colab": {
     "base_uri": "https://localhost:8080/",
     "height": 433
    },
    "executionInfo": {
     "elapsed": 22,
     "status": "ok",
     "timestamp": 1652801848577,
     "user": {
      "displayName": "Pararawendy Indarjo",
      "userId": "09035664507663317723"
     },
     "user_tz": -420
    },
    "id": "L89Pcm8fqQ4T",
    "outputId": "5de23b0a-6627-4a9a-d98d-2b7679df98be"
   },
   "outputs": [
    {
     "data": {
      "image/png": "[encoded data removed]",
      "text/plain": [
       "<Figure size 720x504 with 2 Axes>"
      ]
     },
     "metadata": {
      "needs_background": "light"
     },
     "output_type": "display_data"
    }
   ],
   "source": [
    "# heatmap correlation\n",
    "traffic_train = pd.concat([feature_traffic_train, target_traffic_train], axis=1)\n",
    "corr = traffic_train.corr()\n",
    "\n",
    "plt.figure(figsize=(10,7))\n",
    "sns.heatmap(corr, annot=True, fmt='.2f')\n",
    "plt.show()"
   ]
  },
  {
   "cell_type": "markdown",
   "metadata": {
    "id": "kC_zqJcOqQ4T"
   },
   "source": [
    "NO need to drop!"
   ]
  },
  {
   "cell_type": "code",
   "execution_count": 65,
   "metadata": {
    "colab": {
     "base_uri": "https://localhost:8080/"
    },
    "executionInfo": {
     "elapsed": 21,
     "status": "ok",
     "timestamp": 1652801848577,
     "user": {
      "displayName": "Pararawendy Indarjo",
      "userId": "09035664507663317723"
     },
     "user_tz": -420
    },
    "id": "1NDP7_8Z90Vt",
    "outputId": "f475bc01-c846-4837-d875-c06ef7593c02"
   },
   "outputs": [
    {
     "data": {
      "text/plain": [
       "Lasso(alpha=10, random_state=42)"
      ]
     },
     "execution_count": 65,
     "metadata": {},
     "output_type": "execute_result"
    }
   ],
   "source": [
    "from sklearn.linear_model import Lasso\n",
    "\n",
    "# train the model\n",
    "X_traffic_train = feature_traffic_train.to_numpy()\n",
    "y_traffic_train = target_traffic_train.to_numpy()\n",
    "y_traffic_train = y_traffic_train.reshape(len(y_traffic_train),)\n",
    "\n",
    "# define the model\n",
    "lasso_reg_pointzeroone = Lasso(alpha=0.01, random_state=42)\n",
    "lasso_reg_pointone = Lasso(alpha=0.1, random_state=42)\n",
    "lasso_reg_one = Lasso(alpha=1, random_state=42)\n",
    "lasso_reg_ten = Lasso(alpha=10, random_state=42)\n",
    "\n",
    "# fit the model (training)\n",
    "lasso_reg_pointzeroone.fit(X_traffic_train, y_traffic_train)\n",
    "lasso_reg_pointone.fit(X_traffic_train, y_traffic_train)\n",
    "lasso_reg_one.fit(X_traffic_train, y_traffic_train)\n",
    "lasso_reg_ten.fit(X_traffic_train, y_traffic_train)"
   ]
  },
  {
   "cell_type": "markdown",
   "metadata": {
    "id": "J6E5OZ3F90V8"
   },
   "source": [
    "## Find the best model (alpha)\n",
    "Based on validation set"
   ]
  },
  {
   "cell_type": "code",
   "execution_count": 66,
   "metadata": {
    "colab": {
     "base_uri": "https://localhost:8080/"
    },
    "executionInfo": {
     "elapsed": 21,
     "status": "ok",
     "timestamp": 1652801848578,
     "user": {
      "displayName": "Pararawendy Indarjo",
      "userId": "09035664507663317723"
     },
     "user_tz": -420
    },
    "id": "BsxbOK3a90V8",
    "outputId": "9fa35ca8-21dc-4876-fbb6-11c54ad78609"
   },
   "outputs": [
    {
     "name": "stdout",
     "output_type": "stream",
     "text": [
      "RMSE of Lasso regression model with alpha = 0.01 is 1758.7557046935883\n",
      "RMSE of Lasso regression model with alpha = 0.1 is 1758.74786966802\n",
      "RMSE of Lasso regression model with alpha = 1.0 is 1758.669967940547\n",
      "RMSE of Lasso regression model with alpha = 10 is 1758.010309344725\n"
     ]
    }
   ],
   "source": [
    "from sklearn.metrics import mean_squared_error\n",
    "\n",
    "X_traffic_validation = feature_traffic_validation.to_numpy()\n",
    "y_traffic_validation = target_traffic_validation.to_numpy()\n",
    "y_traffic_validation = y_traffic_validation.reshape(len(y_traffic_validation),)\n",
    "\n",
    "alphas = [0.01, 0.1, 1., 10]\n",
    "models = [lasso_reg_pointzeroone,\n",
    "          lasso_reg_pointone,\n",
    "          lasso_reg_one,\n",
    "          lasso_reg_ten]\n",
    "\n",
    "for model, alpha in zip(models, alphas):\n",
    "    y_predict_validation = model.predict(X_traffic_validation)\n",
    "    rmse = np.sqrt(mean_squared_error(y_traffic_validation,y_predict_validation))\n",
    "    print(f'RMSE of Lasso regression model with alpha = {alpha} is {rmse}')"
   ]
  },
  {
   "cell_type": "markdown",
   "metadata": {
    "id": "xJA2f20590V8"
   },
   "source": [
    "## Model Evaluation"
   ]
  },
  {
   "cell_type": "code",
   "execution_count": 67,
   "metadata": {
    "colab": {
     "base_uri": "https://localhost:8080/",
     "height": 206
    },
    "executionInfo": {
     "elapsed": 20,
     "status": "ok",
     "timestamp": 1652801848578,
     "user": {
      "displayName": "Pararawendy Indarjo",
      "userId": "09035664507663317723"
     },
     "user_tz": -420
    },
    "id": "EP0b8omA90V8",
    "outputId": "be5dff33-2078-4ad7-db6d-e3d3afb5f537"
   },
   "outputs": [
    {
     "data": {
      "text/html": [
       "\n",
       "  <div id=\"df-1964215d-4a25-4384-b7f2-ac5e52c7fe90\">\n",
       "    <div class=\"colab-df-container\">\n",
       "      <div>\n",
       "<style scoped>\n",
       "    .dataframe tbody tr th:only-of-type {\n",
       "        vertical-align: middle;\n",
       "    }\n",
       "\n",
       "    .dataframe tbody tr th {\n",
       "        vertical-align: top;\n",
       "    }\n",
       "\n",
       "    .dataframe thead th {\n",
       "        text-align: right;\n",
       "    }\n",
       "</style>\n",
       "<table border=\"1\" class=\"dataframe\">\n",
       "  <thead>\n",
       "    <tr style=\"text-align: right;\">\n",
       "      <th></th>\n",
       "      <th>feature</th>\n",
       "      <th>coefficient</th>\n",
       "    </tr>\n",
       "  </thead>\n",
       "  <tbody>\n",
       "    <tr>\n",
       "      <th>0</th>\n",
       "      <td>intercept</td>\n",
       "      <td>-4365.600873</td>\n",
       "    </tr>\n",
       "    <tr>\n",
       "      <th>1</th>\n",
       "      <td>temp</td>\n",
       "      <td>25.016157</td>\n",
       "    </tr>\n",
       "    <tr>\n",
       "      <th>2</th>\n",
       "      <td>clouds_all</td>\n",
       "      <td>0.003057</td>\n",
       "    </tr>\n",
       "    <tr>\n",
       "      <th>3</th>\n",
       "      <td>hour</td>\n",
       "      <td>93.107203</td>\n",
       "    </tr>\n",
       "    <tr>\n",
       "      <th>4</th>\n",
       "      <td>is_weekend</td>\n",
       "      <td>-957.562828</td>\n",
       "    </tr>\n",
       "  </tbody>\n",
       "</table>\n",
       "</div>\n",
       "      <button class=\"colab-df-convert\" onclick=\"convertToInteractive('df-1964215d-4a25-4384-b7f2-ac5e52c7fe90')\"\n",
       "              title=\"Convert this dataframe to an interactive table.\"\n",
       "              style=\"display:none;\">\n",
       "        \n",
       "  <svg xmlns=\"http://www.w3.org/2000/svg\" height=\"24px\"viewBox=\"0 0 24 24\"\n",
       "       width=\"24px\">\n",
       "    <path d=\"M0 0h24v24H0V0z\" fill=\"none\"/>\n",
       "    <path d=\"M18.56 5.44l.94 2.06.94-2.06 2.06-.94-2.06-.94-.94-2.06-.94 2.06-2.06.94zm-11 1L8.5 8.5l.94-2.06 2.06-.94-2.06-.94L8.5 2.5l-.94 2.06-2.06.94zm10 10l.94 2.06.94-2.06 2.06-.94-2.06-.94-.94-2.06-.94 2.06-2.06.94z\"/><path d=\"M17.41 7.96l-1.37-1.37c-.4-.4-.92-.59-1.43-.59-.52 0-1.04.2-1.43.59L10.3 9.45l-7.72 7.72c-.78.78-.78 2.05 0 2.83L4 21.41c.39.39.9.59 1.41.59.51 0 1.02-.2 1.41-.59l7.78-7.78 2.81-2.81c.8-.78.8-2.07 0-2.86zM5.41 20L4 18.59l7.72-7.72 1.47 1.35L5.41 20z\"/>\n",
       "  </svg>\n",
       "      </button>\n",
       "      \n",
       "  <style>\n",
       "    .colab-df-container {\n",
       "      display:flex;\n",
       "      flex-wrap:wrap;\n",
       "      gap: 12px;\n",
       "    }\n",
       "\n",
       "    .colab-df-convert {\n",
       "      background-color: #E8F0FE;\n",
       "      border: none;\n",
       "      border-radius: 50%;\n",
       "      cursor: pointer;\n",
       "      display: none;\n",
       "      fill: #1967D2;\n",
       "      height: 32px;\n",
       "      padding: 0 0 0 0;\n",
       "      width: 32px;\n",
       "    }\n",
       "\n",
       "    .colab-df-convert:hover {\n",
       "      background-color: #E2EBFA;\n",
       "      box-shadow: 0px 1px 2px rgba(60, 64, 67, 0.3), 0px 1px 3px 1px rgba(60, 64, 67, 0.15);\n",
       "      fill: #174EA6;\n",
       "    }\n",
       "\n",
       "    [theme=dark] .colab-df-convert {\n",
       "      background-color: #3B4455;\n",
       "      fill: #D2E3FC;\n",
       "    }\n",
       "\n",
       "    [theme=dark] .colab-df-convert:hover {\n",
       "      background-color: #434B5C;\n",
       "      box-shadow: 0px 1px 3px 1px rgba(0, 0, 0, 0.15);\n",
       "      filter: drop-shadow(0px 1px 2px rgba(0, 0, 0, 0.3));\n",
       "      fill: #FFFFFF;\n",
       "    }\n",
       "  </style>\n",
       "\n",
       "      <script>\n",
       "        const buttonEl =\n",
       "          document.querySelector('#df-1964215d-4a25-4384-b7f2-ac5e52c7fe90 button.colab-df-convert');\n",
       "        buttonEl.style.display =\n",
       "          google.colab.kernel.accessAllowed ? 'block' : 'none';\n",
       "\n",
       "        async function convertToInteractive(key) {\n",
       "          const element = document.querySelector('#df-1964215d-4a25-4384-b7f2-ac5e52c7fe90');\n",
       "          const dataTable =\n",
       "            await google.colab.kernel.invokeFunction('convertToInteractive',\n",
       "                                                     [key], {});\n",
       "          if (!dataTable) return;\n",
       "\n",
       "          const docLinkHtml = 'Like what you see? Visit the ' +\n",
       "            '<a target=\"_blank\" href=https://colab.research.google.com/notebooks/data_table.ipynb>data table notebook</a>'\n",
       "            + ' to learn more about interactive tables.';\n",
       "          element.innerHTML = '';\n",
       "          dataTable['output_type'] = 'display_data';\n",
       "          await google.colab.output.renderOutput(dataTable, element);\n",
       "          const docLink = document.createElement('div');\n",
       "          docLink.innerHTML = docLinkHtml;\n",
       "          element.appendChild(docLink);\n",
       "        }\n",
       "      </script>\n",
       "    </div>\n",
       "  </div>\n",
       "  "
      ],
      "text/plain": [
       "      feature  coefficient\n",
       "0   intercept -4365.600873\n",
       "1        temp    25.016157\n",
       "2  clouds_all     0.003057\n",
       "3        hour    93.107203\n",
       "4  is_weekend  -957.562828"
      ]
     },
     "execution_count": 67,
     "metadata": {},
     "output_type": "execute_result"
    }
   ],
   "source": [
    "lasso_best = lasso_reg_ten\n",
    "\n",
    "coef_df = pd.DataFrame({\n",
    "    'feature':['intercept'] + feature_traffic_train.columns.tolist(),\n",
    "    'coefficient':[lasso_best.intercept_] + list(lasso_best.coef_)\n",
    "})\n",
    "\n",
    "coef_df"
   ]
  },
  {
   "cell_type": "markdown",
   "metadata": {
    "id": "qyfylZid90V8"
   },
   "source": [
    "### Diagnostic Study"
   ]
  },
  {
   "cell_type": "code",
   "execution_count": 68,
   "metadata": {
    "colab": {
     "base_uri": "https://localhost:8080/"
    },
    "executionInfo": {
     "elapsed": 19,
     "status": "ok",
     "timestamp": 1652801848578,
     "user": {
      "displayName": "Pararawendy Indarjo",
      "userId": "09035664507663317723"
     },
     "user_tz": -420
    },
    "id": "9l3bOclP90V8",
    "outputId": "3bd0041c-bd56-4aaf-bcf1-dc7bc9e92e9a"
   },
   "outputs": [
    {
     "name": "stdout",
     "output_type": "stream",
     "text": [
      "R-squared for training data is 0.17925637278788864\n"
     ]
    }
   ],
   "source": [
    "from sklearn.metrics import r2_score\n",
    "\n",
    "y_predict_train = lasso_best.predict(X_traffic_train)\n",
    "\n",
    "print('R-squared for training data is {}'.format(r2_score(y_traffic_train, y_predict_train)))"
   ]
  },
  {
   "cell_type": "code",
   "execution_count": 69,
   "metadata": {
    "colab": {
     "base_uri": "https://localhost:8080/",
     "height": 280
    },
    "executionInfo": {
     "elapsed": 816,
     "status": "ok",
     "timestamp": 1652801849376,
     "user": {
      "displayName": "Pararawendy Indarjo",
      "userId": "09035664507663317723"
     },
     "user_tz": -420
    },
    "id": "Nh1HHDMj90V9",
    "outputId": "3557b925-812a-4ede-a63a-761ab4a6e076"
   },
   "outputs": [
    {
     "data": {
      "image/png": "[encoded data removed]",
      "text/plain": [
       "<Figure size 432x288 with 1 Axes>"
      ]
     },
     "metadata": {
      "needs_background": "light"
     },
     "output_type": "display_data"
    }
   ],
   "source": [
    "# calculate residuals\n",
    "residual = y_traffic_train - y_predict_train\n",
    "\n",
    "# prepare dataframe\n",
    "# 1 predictor --> predictor VS residual\n",
    "df_resid = pd.DataFrame({\n",
    "    'predicted_value': y_predict_train,\n",
    "    'residual': residual\n",
    "})\n",
    "\n",
    "# residual plot\n",
    "sns.scatterplot(data=df_resid, x=\"predicted_value\", y=\"residual\")\n",
    "plt.axhline(0)\n",
    "plt.show()"
   ]
  },
  {
   "cell_type": "markdown",
   "metadata": {
    "id": "rlARNsAraHSJ"
   },
   "source": [
    "### Training Error"
   ]
  },
  {
   "cell_type": "code",
   "execution_count": 70,
   "metadata": {
    "colab": {
     "base_uri": "https://localhost:8080/"
    },
    "executionInfo": {
     "elapsed": 14,
     "status": "ok",
     "timestamp": 1652801849377,
     "user": {
      "displayName": "Pararawendy Indarjo",
      "userId": "09035664507663317723"
     },
     "user_tz": -420
    },
    "id": "Ny4ND00UaGn-",
    "outputId": "0116c6c2-27ba-4dc7-bcc0-18aaad568320"
   },
   "outputs": [
    {
     "name": "stdout",
     "output_type": "stream",
     "text": [
      "RMSE for training data is 1805.286522023116\n",
      "MAE for training data is 1591.5207121977246\n",
      "MAPE for training data is 1.3231338056293216\n"
     ]
    }
   ],
   "source": [
    "# prepare prediction result on training data\n",
    "y_predict_train = lasso_best.predict(X_traffic_train)\n",
    "\n",
    "from sklearn.metrics import mean_squared_error\n",
    "from sklearn.metrics import mean_absolute_error\n",
    "from sklearn.metrics import mean_absolute_percentage_error\n",
    "\n",
    "print('RMSE for training data is {}'.format(np.sqrt(mean_squared_error(y_traffic_train, y_predict_train))))\n",
    "print('MAE for training data is {}'.format(mean_absolute_error(y_traffic_train, y_predict_train)))\n",
    "print('MAPE for training data is {}'.format(mean_absolute_percentage_error(y_traffic_train, y_predict_train)))"
   ]
  },
  {
   "cell_type": "markdown",
   "metadata": {
    "id": "FVulPv1N90V9"
   },
   "source": [
    "### Testing Error"
   ]
  },
  {
   "cell_type": "code",
   "execution_count": 71,
   "metadata": {
    "executionInfo": {
     "elapsed": 9,
     "status": "ok",
     "timestamp": 1652801849377,
     "user": {
      "displayName": "Pararawendy Indarjo",
      "userId": "09035664507663317723"
     },
     "user_tz": -420
    },
    "id": "6k5_zO7r90V9"
   },
   "outputs": [],
   "source": [
    "# prepare prediction result on test data\n",
    "X_traffic_test = feature_traffic_test.to_numpy()\n",
    "y_predict_test = lasso_best.predict(X_traffic_test)\n",
    "\n",
    "# ground truth target\n",
    "y_traffic_test = target_traffic_test.to_numpy()\n",
    "y_traffic_test = y_traffic_test.reshape(len(y_traffic_test),)"
   ]
  },
  {
   "cell_type": "code",
   "execution_count": 72,
   "metadata": {
    "colab": {
     "base_uri": "https://localhost:8080/"
    },
    "executionInfo": {
     "elapsed": 10,
     "status": "ok",
     "timestamp": 1652801849378,
     "user": {
      "displayName": "Pararawendy Indarjo",
      "userId": "09035664507663317723"
     },
     "user_tz": -420
    },
    "id": "uz3BSCDQ90V9",
    "outputId": "f61e03eb-48d2-4e8b-9f65-bf1faa73071b"
   },
   "outputs": [
    {
     "name": "stdout",
     "output_type": "stream",
     "text": [
      "RMSE for testing data is 1814.257100567723\n",
      "MAE for testing data is 1612.5211560998812\n",
      "MAPE for testing data is 1.459673857916026\n"
     ]
    }
   ],
   "source": [
    "from sklearn.metrics import r2_score\n",
    "from sklearn.metrics import mean_absolute_error\n",
    "from sklearn.metrics import mean_absolute_percentage_error\n",
    "\n",
    "print('RMSE for testing data is {}'.format(np.sqrt(mean_squared_error(y_traffic_test, y_predict_test))))\n",
    "print('MAE for testing data is {}'.format(mean_absolute_error(y_traffic_test, y_predict_test)))\n",
    "print('MAPE for testing data is {}'.format(mean_absolute_percentage_error(y_traffic_test, y_predict_test)))"
   ]
  }
 ],
 "metadata": {
  "colab": {
   "authorship_tag": "ABX9TyMv45oCGnGwN7HF3WiFwBFY",
   "collapsed_sections": [],
   "mount_file_id": "1ZbpP-eFMVkrgCuU-vt8A42IDgGYggbjp",
   "name": "Regularized Linear Regression Python.ipynb",
   "provenance": [
    {
     "file_id": "1jGct-4K05_w4CBHqVDPT19_PhXcuwg8y",
     "timestamp": 1649121123077
    },
    {
     "file_id": "1JdJgihHOC9vSmcJwr5vYQq3L15LnVCgT",
     "timestamp": 1647913242632
    }
   ]
  },
  "kernelspec": {
   "display_name": "Python 3 (ipykernel)",
   "language": "python",
   "name": "python3"
  },
  "language_info": {
   "codemirror_mode": {
    "name": "ipython",
    "version": 3
   },
   "file_extension": ".py",
   "mimetype": "text/x-python",
   "name": "python",
   "nbconvert_exporter": "python",
   "pygments_lexer": "ipython3",
   "version": "3.9.12"
  }
 },
 "nbformat": 4,
 "nbformat_minor": 1
}
